{
 "cells": [
  {
   "cell_type": "code",
   "execution_count": 10,
   "id": "2d7ab6d7",
   "metadata": {},
   "outputs": [
    {
     "ename": "SyntaxError",
     "evalue": "invalid syntax (567690236.py, line 41)",
     "output_type": "error",
     "traceback": [
      "\u001b[1;36m  Input \u001b[1;32mIn [10]\u001b[1;36m\u001b[0m\n\u001b[1;33m    for(i in range(1, n+1)):\u001b[0m\n\u001b[1;37m                           ^\u001b[0m\n\u001b[1;31mSyntaxError\u001b[0m\u001b[1;31m:\u001b[0m invalid syntax\n"
     ]
    }
   ],
   "source": [
    "sz = [1 for i in  range(1000)]\n",
    "f = [i for i in range(1100)]\n",
    "\n",
    "def find(x):\n",
    "    if x == f[x]:\n",
    "        return x\n",
    "    f[x] = find(f[x])\n",
    "    return f[x]\n",
    "\n",
    "def merge(x, y):\n",
    "    fx = find(x)\n",
    "    fy = find(y)\n",
    "    if fx!=fy:\n",
    "        f[fx] = fy\n",
    "        sz[fy] += sz[fx]\n",
    "    \n",
    "n, m = map(int, input().split(\" \"))\n",
    "for i in range(m):\n",
    "    x, y = map(int, input().split(\" \"))\n",
    "    merge(x, y)\n",
    "    \n",
    "flag = 1\n",
    "c = [0, 0, 0, 0]\n",
    "for i in range(1, n+1):\n",
    "    if f[i] == i:\n",
    "        if sz[i] > 3:\n",
    "            flag = 0\n",
    "        else:\n",
    "            c[sz[i]] += 1\n",
    "\n",
    "if flag == 0 or c[2] > c[1]:\n",
    "    print(\"NO\")\n",
    "else:\n",
    "    for i in range(1, n+1):\n",
    "        if f[i] == i and sz[i] == 3:\n",
    "            for j in range(1, n+1):\n",
    "                if find(j) == i:\n",
    "                    print(j, end=' ')\n",
    "            print()\n",
    "    t = 1\n",
    "    for i in range(1, n+1):\n",
    "        if f[i] == i and sz[i] == 2:\n",
    "            for j in range(1, n+1):\n",
    "                if find(j) == i:\n",
    "                    print(j, end=' ')\n",
    "            for j in range(t, n+1):\n",
    "                if f[j] == j and sz[j] == 1:\n",
    "                    print(j)\n",
    "                    t = j+1\n",
    "                    break\n",
    "    num = 0\n",
    "    for i in range(t, n+1):\n",
    "        if f[i] == i and sz[i] == 1:\n",
    "            print(i, end=\" \")\n",
    "            num += 1\n",
    "            if num == 3:\n",
    "                num = 0\n",
    "                print()"
   ]
  },
  {
   "cell_type": "code",
   "execution_count": null,
   "id": "46ebacb0",
   "metadata": {},
   "outputs": [],
   "source": []
  },
  {
   "cell_type": "code",
   "execution_count": null,
   "id": "58f85bf1",
   "metadata": {},
   "outputs": [],
   "source": []
  },
  {
   "cell_type": "code",
   "execution_count": null,
   "id": "85d56e6a",
   "metadata": {},
   "outputs": [],
   "source": []
  },
  {
   "cell_type": "code",
   "execution_count": null,
   "id": "444031ca",
   "metadata": {},
   "outputs": [],
   "source": []
  },
  {
   "cell_type": "code",
   "execution_count": null,
   "id": "4d23b1c5",
   "metadata": {},
   "outputs": [],
   "source": []
  },
  {
   "cell_type": "code",
   "execution_count": null,
   "id": "72607da0",
   "metadata": {},
   "outputs": [],
   "source": []
  }
 ],
 "metadata": {
  "kernelspec": {
   "display_name": "Python 3 (ipykernel)",
   "language": "python",
   "name": "python3"
  },
  "language_info": {
   "codemirror_mode": {
    "name": "ipython",
    "version": 3
   },
   "file_extension": ".py",
   "mimetype": "text/x-python",
   "name": "python",
   "nbconvert_exporter": "python",
   "pygments_lexer": "ipython3",
   "version": "3.9.12"
  }
 },
 "nbformat": 4,
 "nbformat_minor": 5
}
