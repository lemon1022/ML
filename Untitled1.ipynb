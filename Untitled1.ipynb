{
 "cells": [
  {
   "cell_type": "code",
   "execution_count": 17,
   "id": "0faa8581",
   "metadata": {},
   "outputs": [
    {
     "name": "stdout",
     "output_type": "stream",
     "text": [
      "9 3\n",
      "1 2\n",
      "2 3\n",
      "4 5\n",
      "1 2 3 \n",
      "4 5 6\n",
      "7 8 9 \n"
     ]
    }
   ],
   "source": [
    "sz = [1 for i in  range(1000)]\n",
    "f = [i for i in range(1100)]\n",
    "\n",
    "def find(x):\n",
    "    if x == f[x]:\n",
    "        return x\n",
    "    f[x] = find(f[x])\n",
    "    return f[x]\n",
    "\n",
    "def merge(x, y):\n",
    "    fx = find(x)\n",
    "    fy = find(y)\n",
    "    if fx!=fy:\n",
    "        f[fx] = fy\n",
    "        sz[fy] += sz[fx]\n",
    "    \n",
    "n, m = map(int, input().split(\" \"))\n",
    "for i in range(m):\n",
    "    x, y = map(int, input().split(\" \"))\n",
    "    merge(x, y)\n",
    "    \n",
    "flag = 1\n",
    "c = [0, 0, 0, 0]\n",
    "for i in range(1, n+1):\n",
    "    if f[i] == i:\n",
    "        if sz[i] > 3:\n",
    "            flag = 0\n",
    "        else:\n",
    "            c[sz[i]] += 1\n",
    "\n",
    "if flag == 0 or c[2] > c[1]:\n",
    "    print(\"NO\")\n",
    "else:\n",
    "    for i in range(1, n+1):\n",
    "        if f[i] == i and sz[i] == 3:\n",
    "            for j in range(1, n+1):\n",
    "                if find(j) == i:\n",
    "                    print(j, end=' ')\n",
    "            print()\n",
    "    t = 1\n",
    "    for i in range(1, n+1):\n",
    "        if f[i] == i and sz[i] == 2:\n",
    "            for j in range(1, n+1):\n",
    "                if find(j) == i:\n",
    "                    print(j, end=' ')\n",
    "            for j in range(t, n+1):\n",
    "                if f[j] == j and sz[j] == 1:\n",
    "                    print(j)\n",
    "                    t = j+1\n",
    "                    break\n",
    "    num = 0\n",
    "    for i in range(t, n+1):\n",
    "        if f[i] == i and sz[i] == 1:\n",
    "            print(i, end=\" \")\n",
    "            num += 1\n",
    "            if num == 3:\n",
    "                num = 0\n",
    "                print()"
   ]
  },
  {
   "cell_type": "code",
   "execution_count": null,
   "id": "c8ef73c5",
   "metadata": {},
   "outputs": [],
   "source": []
  },
  {
   "cell_type": "code",
   "execution_count": null,
   "id": "8441eef6",
   "metadata": {},
   "outputs": [],
   "source": []
  },
  {
   "cell_type": "code",
   "execution_count": null,
   "id": "21e42dd5",
   "metadata": {},
   "outputs": [],
   "source": []
  },
  {
   "cell_type": "code",
   "execution_count": null,
   "id": "85640494",
   "metadata": {},
   "outputs": [],
   "source": []
  },
  {
   "cell_type": "code",
   "execution_count": null,
   "id": "cc3e9d30",
   "metadata": {},
   "outputs": [],
   "source": []
  },
  {
   "cell_type": "code",
   "execution_count": null,
   "id": "2d98793e",
   "metadata": {},
   "outputs": [],
   "source": []
  },
  {
   "cell_type": "code",
   "execution_count": null,
   "id": "60cebab5",
   "metadata": {},
   "outputs": [],
   "source": []
  },
  {
   "cell_type": "code",
   "execution_count": null,
   "id": "aaf486c9",
   "metadata": {},
   "outputs": [],
   "source": []
  },
  {
   "cell_type": "code",
   "execution_count": null,
   "id": "322d18aa",
   "metadata": {},
   "outputs": [],
   "source": []
  },
  {
   "cell_type": "code",
   "execution_count": null,
   "id": "0ceb67a3",
   "metadata": {},
   "outputs": [],
   "source": []
  },
  {
   "cell_type": "code",
   "execution_count": null,
   "id": "9d565134",
   "metadata": {},
   "outputs": [],
   "source": []
  },
  {
   "cell_type": "code",
   "execution_count": null,
   "id": "8d7ba629",
   "metadata": {},
   "outputs": [],
   "source": []
  },
  {
   "cell_type": "code",
   "execution_count": null,
   "id": "77b565db",
   "metadata": {},
   "outputs": [],
   "source": []
  }
 ],
 "metadata": {
  "kernelspec": {
   "display_name": "Python 3 (ipykernel)",
   "language": "python",
   "name": "python3"
  },
  "language_info": {
   "codemirror_mode": {
    "name": "ipython",
    "version": 3
   },
   "file_extension": ".py",
   "mimetype": "text/x-python",
   "name": "python",
   "nbconvert_exporter": "python",
   "pygments_lexer": "ipython3",
   "version": "3.9.12"
  }
 },
 "nbformat": 4,
 "nbformat_minor": 5
}
